{
 "cells": [
  {
   "cell_type": "markdown",
   "metadata": {},
   "source": [
    "### What is this?\n",
    "\n",
    "This isn't really a money machine, I'm just kidding about that, sorry.  \n",
    "\n",
    "This is just a quick exploration of two awesome Python packages that I wanted to play with for a while\n",
    "\n",
    "- [`Prophet`](https://facebookincubator.github.io/prophet) for time series forecasting\n",
    "- [`pandas_datareader`](https://pandas-datareader.readthedocs.io/en/latest/) for grabbing historic stock price data\n",
    "\n",
    "Prophet seems like an awesome project by Facebook to make state-of-the-art time series forecasting really easy and simple. I've been hoping to give it a try for a while. \n",
    "\n",
    "I've also been itching to play aound with pandas-datareader, which makes it really grab data from multiple [remote datasources](https://pandas-datareader.readthedocs.io/en/latest/remote_data.html), including historic stock prices from [Yahoo! Finance](https://pandas-datareader.readthedocs.io/en/latest/remote_data.html#remote-data-yahoo)  \n",
    "\n",
    "I decided to see how Prophet does at forecasting future stock prices based on historic data. Now, before you scold me about the fact that [what I'm doing is silly](https://en.wikipedia.org/wiki/Random_walk_hypothesis), I know, you can't really use this to predict stock prices, but time series forecasting can be useful for many other things.\n",
    "\n",
    "Plus it never hurts to prove well known hypothesis to yourself, no matter how much it might seem like common knowledge. \n",
    "\n",
    "So I don't really expect to become a millionaire quite yet, but it's a fun little project to learn more about these awesome packages.\n",
    "\n",
    "So let's get started!"
   ]
  },
  {
   "cell_type": "markdown",
   "metadata": {},
   "source": [
    "### Enviroment\n",
    "\n",
    "Docker, docker-compose and Jupyter is my preferred way of setting up a reproducible enviroment for analysis.\n",
    "\n",
    "The [notebook](https://github.com/michael-erasmus/money-machine/blob/master/Analysis.ipynb) for this analysis runs with [Dockerfile](https://github.com/michael-erasmus/money-machine/blob/master/Dockerfile) I set up using Jupyter's [opinionated docker image](https://github.com/jupyter/docker-stacks/tree/master/datascience-notebook), along with some tweaks to install the two custom packages.\n",
    "\n",
    "Once I got everything up and running, I could [fire up a Notebook](https://github.com/michael-erasmus/money-machine/blob/master/README.md) and get cracking."
   ]
  },
  {
   "cell_type": "code",
   "execution_count": 13,
   "metadata": {},
   "outputs": [],
   "source": [
    "#The usual suspects\n",
    "import datetime\n",
    "import pandas as pd\n",
    "import matplotlib.pyplot as plt\n",
    "import numpy as np\n",
    "\n",
    "#Plus some new interesting characters\n",
    "from fbprophet import Prophet\n",
    "import pandas_datareader.data as web"
   ]
  },
  {
   "cell_type": "markdown",
   "metadata": {},
   "source": [
    "### Our data source\n",
    "\n",
    "`pandas_datareader` makes it incredibly easy to get historic stock market data\n",
    "\n",
    "For today we'll just get the daily closing prices of the S&P 500 (SPY)\n",
    "\n",
    "We'll train on data from the start of 2000 to 2017-03-14\n",
    "We'll use the last week's data as a holdout set to evaluate our model (up until 2017-03-21)"
   ]
  },
  {
   "cell_type": "code",
   "execution_count": null,
   "metadata": {},
   "outputs": [],
   "source": [
    "start = datetime.datetime(2000, 1,1)\n",
    "end = datetime.datetime(2018, 8, 1)\n",
    "\n",
    "train = web.DataReader(\"AAPL\", 'yahoo', start, end)\n",
    "compare = train.copy()\n",
    "train = train['2017-01-03': '2018-03-14']\n",
    "train.head()"
   ]
  },
  {
   "cell_type": "markdown",
   "metadata": {},
   "source": [
    "### Can we forecast future prices?\n",
    "\n",
    "\n",
    "This is where we get to play with Prophet. First we'll prepare our dataset in a way that Prophet likes it."
   ]
  },
  {
   "cell_type": "code",
   "execution_count": 6,
   "metadata": {},
   "outputs": [
    {
     "data": {
      "text/html": [
       "<div>\n",
       "<style scoped>\n",
       "    .dataframe tbody tr th:only-of-type {\n",
       "        vertical-align: middle;\n",
       "    }\n",
       "\n",
       "    .dataframe tbody tr th {\n",
       "        vertical-align: top;\n",
       "    }\n",
       "\n",
       "    .dataframe thead th {\n",
       "        text-align: right;\n",
       "    }\n",
       "</style>\n",
       "<table border=\"1\" class=\"dataframe\">\n",
       "  <thead>\n",
       "    <tr style=\"text-align: right;\">\n",
       "      <th></th>\n",
       "      <th>ds</th>\n",
       "      <th>y</th>\n",
       "    </tr>\n",
       "  </thead>\n",
       "  <tbody>\n",
       "    <tr>\n",
       "      <th>0</th>\n",
       "      <td>2018-01-03</td>\n",
       "      <td>170.871735</td>\n",
       "    </tr>\n",
       "    <tr>\n",
       "      <th>1</th>\n",
       "      <td>2018-01-04</td>\n",
       "      <td>171.665436</td>\n",
       "    </tr>\n",
       "    <tr>\n",
       "      <th>2</th>\n",
       "      <td>2018-01-05</td>\n",
       "      <td>173.619904</td>\n",
       "    </tr>\n",
       "    <tr>\n",
       "      <th>3</th>\n",
       "      <td>2018-01-08</td>\n",
       "      <td>172.975037</td>\n",
       "    </tr>\n",
       "    <tr>\n",
       "      <th>4</th>\n",
       "      <td>2018-01-09</td>\n",
       "      <td>172.955200</td>\n",
       "    </tr>\n",
       "  </tbody>\n",
       "</table>\n",
       "</div>"
      ],
      "text/plain": [
       "          ds           y\n",
       "0 2018-01-03  170.871735\n",
       "1 2018-01-04  171.665436\n",
       "2 2018-01-05  173.619904\n",
       "3 2018-01-08  172.975037\n",
       "4 2018-01-09  172.955200"
      ]
     },
     "execution_count": 6,
     "metadata": {},
     "output_type": "execute_result"
    }
   ],
   "source": [
    "df = pd.DataFrame({'ds': train.index, 'y': train['Adj Close']}).reset_index()\n",
    "\n",
    "df = df.drop('Date', axis=1)\n",
    "df.head()"
   ]
  },
  {
   "cell_type": "markdown",
   "metadata": {},
   "source": [
    "Now we can train our model. Since we don't expect stock prices to really follow a weekly seasonality we'll switch that off."
   ]
  },
  {
   "cell_type": "code",
   "execution_count": 7,
   "metadata": {},
   "outputs": [
    {
     "name": "stderr",
     "output_type": "stream",
     "text": [
      "INFO:fbprophet.forecaster:Disabling yearly seasonality. Run prophet with yearly_seasonality=True to override this.\n",
      "INFO:fbprophet.forecaster:Disabling daily seasonality. Run prophet with daily_seasonality=True to override this.\n",
      "/usr/local/lib/python3.4/site-packages/pystan/misc.py:399: FutureWarning: Conversion of the second argument of issubdtype from `float` to `np.floating` is deprecated. In future, it will be treated as `np.float64 == np.dtype(float).type`.\n",
      "  elif np.issubdtype(np.asarray(v).dtype, float):\n"
     ]
    }
   ],
   "source": [
    "m = Prophet(weekly_seasonality=True)\n",
    "m.fit(df);"
   ]
  },
  {
   "cell_type": "markdown",
   "metadata": {},
   "source": [
    "To be able to make forecasts on future dates we can use a handy helper method to generate our expected input "
   ]
  },
  {
   "cell_type": "code",
   "execution_count": 8,
   "metadata": {},
   "outputs": [],
   "source": [
    "future = m.make_future_dataframe(periods=90)"
   ]
  },
  {
   "cell_type": "markdown",
   "metadata": {},
   "source": [
    "Finally we can make our prediction, using probably the coolest line of code I've ever written"
   ]
  },
  {
   "cell_type": "code",
   "execution_count": 9,
   "metadata": {},
   "outputs": [],
   "source": [
    "forecast = m.predict(future)"
   ]
  },
  {
   "cell_type": "markdown",
   "metadata": {},
   "source": [
    "### Let's see how that did! \n",
    "\n",
    "We can use our `compare` dataframe from earlier to see how our forecasted value for yesterday's price compares to the actual price. We'll also see what our model thinks the price would be in a year from now."
   ]
  },
  {
   "cell_type": "code",
   "execution_count": 10,
   "metadata": {},
   "outputs": [
    {
     "name": "stdout",
     "output_type": "stream",
     "text": [
      "Yesterday's Forecast:\n",
      "183.64 lower: 179.84, upper: 188.03, \n",
      "\n",
      "Real:\n",
      "170.6121063232422\n",
      "\n",
      "Next years Forecast:\n"
     ]
    },
    {
     "data": {
      "text/html": [
       "<div>\n",
       "<style scoped>\n",
       "    .dataframe tbody tr th:only-of-type {\n",
       "        vertical-align: middle;\n",
       "    }\n",
       "\n",
       "    .dataframe tbody tr th {\n",
       "        vertical-align: top;\n",
       "    }\n",
       "\n",
       "    .dataframe thead th {\n",
       "        text-align: right;\n",
       "    }\n",
       "</style>\n",
       "<table border=\"1\" class=\"dataframe\">\n",
       "  <thead>\n",
       "    <tr style=\"text-align: right;\">\n",
       "      <th></th>\n",
       "      <th>ds</th>\n",
       "      <th>yhat</th>\n",
       "      <th>yhat_lower</th>\n",
       "      <th>yhat_upper</th>\n",
       "    </tr>\n",
       "  </thead>\n",
       "  <tbody>\n",
       "    <tr>\n",
       "      <th>138</th>\n",
       "      <td>2018-06-12</td>\n",
       "      <td>222.144696</td>\n",
       "      <td>175.240457</td>\n",
       "      <td>274.010035</td>\n",
       "    </tr>\n",
       "  </tbody>\n",
       "</table>\n",
       "</div>"
      ],
      "text/plain": [
       "            ds        yhat  yhat_lower  yhat_upper\n",
       "138 2018-06-12  222.144696  175.240457  274.010035"
      ]
     },
     "execution_count": 10,
     "metadata": {},
     "output_type": "execute_result"
    }
   ],
   "source": [
    "def evaluate(forecasted, compare):\n",
    "    forecasted = forecast.set_index('ds').loc['2018-03-21'][['yhat', 'yhat_lower', 'yhat_upper']]\n",
    "    real = compare.loc['2018-03-21']['Adj Close']\n",
    "    print(\"Yesterday's Forecast:\" )\n",
    "    print(\"{0:.2f} lower: {1:.2f}, upper: {2:.2f}, \".format(forecasted['yhat'], forecasted['yhat_lower'], forecasted['yhat_upper']))\n",
    "    print(\"\\nReal:\" )\n",
    "    print(real)\n",
    "\n",
    "    print('\\nNext year''s Forecast:')\n",
    "\n",
    "    return forecast.tail(1)[['ds','yhat', 'yhat_lower', 'yhat_upper']]\n",
    "    \n",
    "evaluate(forecast, compare)"
   ]
  },
  {
   "cell_type": "markdown",
   "metadata": {},
   "source": [
    "Hmm, seems to be underestimating the actual price by quite a bit, however we're still within Prophet's 80% confidence interval (well almost).\n",
    "\n",
    "Did I mention this isn't acually a valid technique for making investment decisions?\n",
    "\n",
    "That being said, let's plot our performance, which again is made pretty easy by Prophet."
   ]
  },
  {
   "cell_type": "code",
   "execution_count": 12,
   "metadata": {},
   "outputs": [
    {
     "data": {
      "text/plain": [
       "[<matplotlib.lines.Line2D at 0x7fda02089198>]"
      ]
     },
     "execution_count": 12,
     "metadata": {},
     "output_type": "execute_result"
    },
    {
     "data": {
      "image/png": "[encoded data removed]",
      "text/plain": [
       "<Figure size 720x432 with 1 Axes>"
      ]
     },
     "metadata": {},
     "output_type": "display_data"
    }
   ],
   "source": [
    "p = m.plot(forecast)\n",
    "plt.plot(compare['2017-01-03':]['Adj Close'])"
   ]
  },
  {
   "cell_type": "markdown",
   "metadata": {},
   "source": [
    "Ok, so it seems like it's doing pretty well modeling the trend in historic data, but it does seem to miss the recent rise in prices. One thing we could try is to force the model to fit the historic trend more or less closely, or as the Prophet documentation puts it, making the model more or less flexible.\n",
    "\n",
    "To do this, we can use the tweak the `changepoint_prior_scale` parameter (I'll chat more on changepoints a little later on). The best value I've found for this parameter was `0.01`"
   ]
  },
  {
   "cell_type": "code",
   "execution_count": null,
   "metadata": {},
   "outputs": [],
   "source": [
    "m = Prophet(weekly_seasonality=False, changepoint_prior_scale=0.01)\n",
    "m.fit(df)\n",
    "future = m.make_future_dataframe(periods=365)\n",
    "forecast = m.predict(future)\n",
    "evaluate(forecasted, compare)"
   ]
  },
  {
   "cell_type": "markdown",
   "metadata": {},
   "source": [
    "This makes our model overfit the data a bit more, which gets us a little closer to our real price, but we're still not quite there yet, and our confidence intervals is also undereporting. \n",
    "\n",
    "Seriously, don't use this to invest real money, ok?"
   ]
  },
  {
   "cell_type": "markdown",
   "metadata": {},
   "source": [
    "### Ok, so we didn't do too great, what can we learn?\n",
    "\n",
    "Another really nice thing about Prophet is that it's really easy to plot the components of your forecasts (trend, yearly and/or weekly seasonality). Often this is a pretty useful tool for analysis by itself. "
   ]
  },
  {
   "cell_type": "code",
   "execution_count": null,
   "metadata": {},
   "outputs": [],
   "source": [
    "p = m.plot_components(forecast)"
   ]
  },
  {
   "cell_type": "markdown",
   "metadata": {},
   "source": [
    "From the top chart we can clearly see that we've had one of the [longest bull runs in history](http://fortune.com/2017/03/09/stock-market-bull-market-longest/), which is pretty crazy, and our model thinks things can only go up from here. This is because of one of the fundamental underpinnings of time series forecasting. \n",
    "\n",
    "The market, like other time series, will have points where the general trend changes drastically. These are called [change points](https://en.wikipedia.org/wiki/Change_detection) and a good forecasting algorithm needs to detect change points to be able to model the trend in the data. Change points are not caused by general cycles in the data either (seasonality), which can be predicted with more accuracy. \n",
    "\n",
    "In fact, the one thing that any forecasting algorithm cannot predict is when the next change point will be, and how what effect that will have on the trend. This is also the flaw of my money machine. The market is a [random walk](https://en.wikipedia.org/wiki/Random_walk_hypothesis), and even though we know everything about historic price trends, we can't know when trends change. \n",
    "\n",
    "\n",
    "What's really interesting though is looking at yearly seasonality plot. From this plot it does seem like there is a strong seasonality in growth rates of stock prices throughout the year. We see a peak around May 1st, a decline up until late October, after which prices seem to trend up again.\n",
    "\n",
    "This is a well known trading adage to [Sell in May and go away](https://en.wikipedia.org/wiki/Sell_in_May), but looking at the data, it seems to hold up quite well and might just be a good trading strategy. So maybe I have just a built a Money Machine after all! \n",
    "\n",
    "Then again, I'm sure if it was that simple we would have many more self made millionaires in the stock market. From [Investopedia](http://www.investopedia.com/terms/s/sell-in-may-and-go-away.asp#ixzz4c79c6mNF):\n",
    "\n",
    "> There are limitations to implementing this strategy in practice, such as added transaction costs and tax implications of the rotation in and out of equities. Another drawback is that market timing and seasonality strategies do not always work out, and the actual results may be very different from the theoretical ones.\n",
    "\n",
    "So please don't bet the farm quite yet!"
   ]
  },
  {
   "cell_type": "markdown",
   "metadata": {},
   "source": [
    "### Conclusion\n",
    "\n",
    "This was a fun little test of Prophet and pandas_datareader. \n",
    "\n",
    "pandas_datareader makes the normally tedious task of finding, downloading, reading and transforming finance data into a dataframe incredibly easy.\n",
    "\n",
    "Prophet makes time series forecasting super simple, and it works with Python and R! It feels like a great tool in my analytics toolbox and I've just scratched the surface of what it can do\n",
    "\n",
    "- [Logistic growth modelling](https://facebookincubator.github.io/prophet/docs/forecasting_growth.html)\n",
    "- [Controlling changepoint detection and confidence](https://facebookincubator.github.io/prophet/docs/trend_changepoints.html)\n",
    "- [Specifying holidays to control for holiday effects](https://facebookincubator.github.io/prophet/docs/holiday_effects.html)\n",
    "- [Modelling uncertainty](https://facebookincubator.github.io/prophet/docs/uncertainty_intervals.html)\n",
    "- [Dealing with outliers](https://facebookincubator.github.io/prophet/docs/outliers.html)"
   ]
  }
 ],
 "metadata": {
  "kernelspec": {
   "display_name": "Python 3",
   "language": "python",
   "name": "python3"
  },
  "language_info": {
   "codemirror_mode": {
    "name": "ipython",
    "version": 3
   },
   "file_extension": ".py",
   "mimetype": "text/x-python",
   "name": "python",
   "nbconvert_exporter": "python",
   "pygments_lexer": "ipython3",
   "version": "3.4.6"
  }
 },
 "nbformat": 4,
 "nbformat_minor": 1
}
